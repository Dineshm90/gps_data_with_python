{
 "cells": [
  {
   "cell_type": "code",
   "execution_count": 1,
   "metadata": {
    "collapsed": true,
    "slideshow": {
     "slide_type": "skip"
    }
   },
   "outputs": [],
   "source": [
    "from __future__ import division, print_function\n",
    "\n",
    "# to suppress warnings of Seaborn's deprecated usage of Matplotlib\n",
    "import warnings\n",
    "warnings.filterwarnings(\"ignore\")"
   ]
  },
  {
   "cell_type": "markdown",
   "metadata": {
    "slideshow": {
     "slide_type": "slide"
    }
   },
   "source": [
    "<center>\n",
    "<h1>Handling GPS data with Python</h1>\n",
    "<br>\n",
    "<h3>Dr. Florian Wilhelm</h3>\n",
    "<h4>Senior Data Scientist @ inovex</h4>\n",
    "</center>"
   ]
  },
  {
   "cell_type": "markdown",
   "metadata": {
    "collapsed": true,
    "slideshow": {
     "slide_type": "subslide"
    }
   },
   "source": [
    "<center><h1>Jupyter/IPython Notebook</h1>\n",
    "<img src=\"./pics/inovex_logo.svg\" widht=60%><br style=\"clear:both\"/>\n",
    "Live demonstration\n",
    "</center>"
   ]
  },
  {
   "cell_type": "markdown",
   "metadata": {
    "slideshow": {
     "slide_type": "slide"
    }
   },
   "source": [
    "<center><h1>Titanic: Analysis of a Disaster</h1>\n",
    "<img src=\"./gfx/inovex_logo.svg\" widht=60%><br style=\"clear:both\"/>\n",
    "Painting from <a href=https://en.wikipedia.org/wiki/Sinking_of_the_RMS_Titanic>Willy Stöwer</a>, source & more information: <a href=https://www.kaggle.com/c/titanic>Kaggle</a>\n",
    "</center>"
   ]
  },
  {
   "cell_type": "markdown",
   "metadata": {
    "slideshow": {
     "slide_type": "slide"
    }
   },
   "source": [
    "<center>\n",
    "    <h1>Example with controls and no auto-play</h1>\n",
    "    <img id=\"example1\" src=\"./gfx/rdp_animation_large.gif\" rel:animated_src=\"./gfx/rdp_animation_large.gif\" rel:auto_play=\"0\" width=\"1024\" height=\"1768\" />\n",
    "    <br>\n",
    "    <script type=\"text/javascript\">\n",
    "        var sup1 = requirejs([\"js/libgif\"], function(SuperGif){\n",
    "            var sup1 = new SuperGif({ gif: document.getElementById('example1') } );\n",
    "            sup1.load(function(){\n",
    "                document.getElementById('button_pause').onmousedown = function(event) {sup1.pause(); return false;};\n",
    "                document.getElementById('button_play').onmousedown = function(event) {sup1.play(); return false;};\n",
    "                document.getElementById('button_restart').onmousedown = function(event) {sup1.move_to(0); return false;};\n",
    "                document.getElementById('button_end').onmousedown = function(event) {sup1.move_to(sup1.get_length()-1); return false;};\n",
    "                document.getElementById('button_forward').onmousedown = function(event) {sup1.move_relative(1); return false;};\n",
    "                document.getElementById('button_backword').onmousedown = function(event) {sup1.move_relative(-1); return false;};\n",
    "            });\n",
    "            \n",
    "        \n",
    "        })\n",
    "    </script>\n",
    "    <table>\n",
    "      <tr>\n",
    "       <td><a href=\"javascript:;\" id=\"button_play\"><i class=\"fa fa-play\" aria-hidden=\"true\"></i></a></td>\n",
    "       <td><a href=\"javascript:;\" id=\"button_pause\"><i class=\"fa fa-pause\" aria-hidden=\"true\"></i></a></td>\n",
    "       <td><a href=\"javascript:;\" id=\"button_restart\"><i class=\"fa fa-fast-backward\" aria-hidden=\"true\"></i></a></td>\n",
    "       <td><a href=\"javascript:;\" id=\"button_backword\"><i class=\"fa fa-step-backward\" aria-hidden=\"true\"></i></a></td>\n",
    "       <td><a href=\"javascript:;\" id=\"button_forward\"><i class=\"fa fa-step-forward\" aria-hidden=\"true\"></i></a></td>\n",
    "       <td><a href=\"javascript:;\" id=\"button_end\"><i class=\"fa fa-fast-forward\" aria-hidden=\"true\"></i></a></td>\n",
    "       </tr>\n",
    "      </table>\n",
    "</center>"
   ]
  },
  {
   "cell_type": "markdown",
   "metadata": {
    "slideshow": {
     "slide_type": "subslide"
    }
   },
   "source": [
    "<center><h1>Can we predict who survived on the Titanic?</h1>\n",
    "<p><p>\n",
    "<font size=\"5\">Based on the properties of a passenger like:\n",
    "<ul>\n",
    "  <li>gender,</li>\n",
    "  <li>age,</li>\n",
    "  <li>passenger class,</li>\n",
    "  <li>number of siblings,</li>\n",
    "  <li>...</li>\n",
    "</ul>\n",
    "</font>\n",
    "</p>\n",
    "</center>"
   ]
  },
  {
   "cell_type": "markdown",
   "metadata": {
    "slideshow": {
     "slide_type": "subslide"
    }
   },
   "source": [
    "## Additional libraries for Data Science\n",
    "\n",
    "#### Visualisation\n",
    "* **Bokeh** allows interactive visualization like plots, dashboards in web browsers.\n",
    "* **Pygal** for standard but sexy charts in SVG.\n",
    "\n",
    "#### High-performance computing\n",
    "* **Theano** evaluate mathematical expressions involving multi-dimensional arrays efficiently.\n",
    "* **Spark** is fast and general-purpose cluster computing system with PySpark as Python interface.\n",
    "* **Cython** is an optimising static compiler for writing C-extensions in a Python-like language.\n",
    "* **Dask** enables parallel computing through task scheduling and blocked algorithms (Out-of-Core).\n",
    "* **TensorFlow** is a library for numerical computation using data flow graphs often used for AI.\n",
    "\n",
    "#### Miscellaneous\n",
    "* **scikit-image** provides tools for image processing.\n",
    "* **SQLAlchemy** is an SQL toolkit and Object Relational Mapper.\n",
    "* **SymPy** is library for symbolic mathematics, i.e. computer algebra system like Maple.\n",
    "* **PyMC** features Bayesian statistical models including Markov chain Monte Carlo.\n",
    "* **NetworkX** for working with structure, dynamics, and functions of complex networks."
   ]
  },
  {
   "cell_type": "markdown",
   "metadata": {
    "slideshow": {
     "slide_type": "slide"
    }
   },
   "source": [
    "<center><h1>Questions?</h1><br>\n",
    "<img src=./gfx/light-bulb.jpg align=\"center\" width=40%/></center>"
   ]
  },
  {
   "cell_type": "markdown",
   "metadata": {
    "slideshow": {
     "slide_type": "subslide"
    }
   },
   "source": [
    "# Credits\n",
    "\n",
    "<br>\n",
    "This presentation was inspired by:\n",
    "\n",
    "* [Savarin's PyCon UK Tutorial](http://nbviewer.jupyter.org/github/savarin/pyconuk-introtutorial/blob/master/notebooks/Section%201-1%20-%20Filling-in%20Missing%20Values.ipynb)\n",
    "* [Thomas Wiecki's Introduction to Data Analysis with Python](http://nbviewer.jupyter.org/github/twiecki/pydata_ninja/blob/master/PyData%20Ninja.ipynb)\n",
    "* [Kaggle's Titantic: Machine Learning from Disaster](https://www.kaggle.com/c/titanic/)"
   ]
  },
  {
   "cell_type": "raw",
   "metadata": {
    "slideshow": {
     "slide_type": "fragment"
    }
   },
   "source": [
    "<link rel=\"stylesheet\" href=\"./css/font-awesome.min.css\">\n",
    "<style>\n",
    "body:after {\n",
    "    content: url(./gfx/inovex_logo.svg);\n",
    "    position: fixed;\n",
    "    bottom: 2em;\n",
    "    left: 2.5em;\n",
    "}\n",
    "\n",
    "@media screen and (max-width: 1900px), (max-height: 900px) {\n",
    "    .reveal .slides {\n",
    "        font-size: 1.5em;\n",
    "    }\n",
    "}\n",
    "</style>"
   ]
  },
  {
   "cell_type": "code",
   "execution_count": null,
   "metadata": {
    "collapsed": true
   },
   "outputs": [],
   "source": []
  }
 ],
 "metadata": {
  "celltoolbar": "Slideshow",
  "kernelspec": {
   "display_name": "Python 3",
   "language": "python",
   "name": "python3"
  },
  "language_info": {
   "codemirror_mode": {
    "name": "ipython",
    "version": 3
   },
   "file_extension": ".py",
   "mimetype": "text/x-python",
   "name": "python",
   "nbconvert_exporter": "python",
   "pygments_lexer": "ipython3",
   "version": "3.5.1"
  }
 },
 "nbformat": 4,
 "nbformat_minor": 0
}
